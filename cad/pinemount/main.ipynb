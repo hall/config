{
 "cells": [
  {
   "cell_type": "code",
   "execution_count": 1154,
   "id": "eb766489",
   "metadata": {},
   "outputs": [],
   "source": [
    "import cadquery as cq\n",
    "from common import render\n",
    "import cqkit\n",
    "\n",
    "thickness = 2\n",
    "phone = {\n",
    "    \"width\": 80,\n",
    "    \"height\": 160,\n",
    "    \"depth\": 14\n",
    "}\n",
    "earbuds = {\n",
    "    \"width\": 50,\n",
    "    \"depth\": 70,\n",
    "    \"offset\": 40 # distance from the bottom of phone back plate\n",
    "}\n",
    "watch = {\n",
    "    \"width\": 40,\n",
    "    \"height\": 37,\n",
    "    \"offset\": 120\n",
    "}\n",
    "\n",
    "attachment = {\n",
    "    \"spread\": 10,\n",
    "    \"width\": 40,\n",
    "    \"depth\": thickness/1.5,\n",
    "    \"thickness\": 6,\n",
    "    \"taper\": 20\n",
    "}\n",
    "\n",
    "bracket = {\n",
    "    \"length\": 200,\n",
    "    \"width\": 10,\n",
    "    \"size\": 20 # length of one edge on the attachment\n",
    "}"
   ]
  },
  {
   "cell_type": "code",
   "execution_count": 1332,
   "id": "abb22eca",
   "metadata": {},
   "outputs": [
    {
     "data": {
      "application/vnd.jupyter.widget-view+json": {
       "model_id": "02f8b41a2b72424eb09303facc3cd74a",
       "version_major": 2,
       "version_minor": 0
      },
      "text/plain": [
       "CadViewerWidget(anchor=None, cad_width=800, glass=False, height=600, pinning=False, theme='dark', title=None, …"
      ]
     },
     "metadata": {},
     "output_type": "display_data"
    },
    {
     "data": {
      "text/html": [
       "<div></div>"
      ],
      "text/plain": [
       "<IPython.core.display.HTML object>"
      ]
     },
     "metadata": {},
     "output_type": "display_data"
    }
   ],
   "source": [
    "render(\"phone\", \"\"\"\n",
    "Phone stand\n",
    "\"\"\", (\n",
    "    cq.Workplane('front')\n",
    "    # tilt\n",
    "    .transformed(rotate=cq.Vector(0, 80, 0))\n",
    "    # add back plane\n",
    "    .box(phone['height'], phone['width'], thickness)\n",
    "    # .edges(\"|Z\").fillet(5)\n",
    "\n",
    "    # add bottom support\n",
    "    .faces(\"<Z\").workplane(offset=-thickness/2)\n",
    "    # translate\n",
    "    .center(0, (phone['depth']/2) + (thickness/2))\n",
    "    # draw\n",
    "    .box(phone['width'], phone['depth'], thickness)\n",
    "\n",
    "    # add addon attachment points\n",
    "    .faces(\"<Z\").workplane()\n",
    "    # rotate and translate to back of phone\n",
    "    .transformed(\n",
    "        offset=cq.Vector(-1,-(phone['depth']/2) - attachment['depth']+.2, 0),\n",
    "        rotate=cq.Vector(90,0,0)\n",
    "    )\n",
    "    # move to left edge\n",
    "    .center(-(phone['width']/2) + (attachment['width']/2), 0)\n",
    "    # add points for each attachment to the stack\n",
    "    .pushPoints([\n",
    "        # earbuds\n",
    "        (0, 0 - earbuds['offset']),\n",
    "        (0, attachment['spread'] - earbuds['offset']),\n",
    "        # watch\n",
    "        (0, 0 - watch['offset']),\n",
    "        (0, attachment['spread'] - watch['offset'])\n",
    "    ])\n",
    "    # draw the base rectangle\n",
    "    .rect(phone['width']/2, attachment['thickness'])\n",
    "    # fill, taper, and cut\n",
    "    .extrude(attachment['depth'], taper=attachment['taper'], combine=\"cut\", clean=True)\n",
    "\n",
    "    # add hanging attachment point\n",
    "    .faces(\">Z\").workplane()\n",
    "    .transformed(\n",
    "        offset=cq.Vector(-attachment['width']/2, 0, -25),\n",
    "        rotate=cq.Vector(90, 0, -30)\n",
    "    )\n",
    "    .polygon(3, bracket['size'])\n",
    "    .extrude(attachment['depth'], taper=attachment['taper']*2, combine='cut')\n",
    "))"
   ]
  },
  {
   "cell_type": "code",
   "execution_count": 1330,
   "id": "062a04ae",
   "metadata": {},
   "outputs": [
    {
     "data": {
      "application/vnd.jupyter.widget-view+json": {
       "model_id": "5bbeeb3742214c53a7b26a7d3051a26e",
       "version_major": 2,
       "version_minor": 0
      },
      "text/plain": [
       "CadViewerWidget(anchor=None, cad_width=800, glass=False, height=600, pinning=False, theme='dark', title=None, …"
      ]
     },
     "metadata": {},
     "output_type": "display_data"
    },
    {
     "data": {
      "text/html": [
       "<div></div>"
      ],
      "text/plain": [
       "<IPython.core.display.HTML object>"
      ]
     },
     "metadata": {},
     "output_type": "display_data"
    }
   ],
   "source": [
    "path = [\n",
    "    (\"start\", {\"position\": (0, 0), \"direction\": 0.0, \"width\": thickness}),\n",
    "    (\"line\", {\"length\": 40}),\n",
    "    (\"arc\", {\"radius\": 60, \"angle\": 35.0}),\n",
    "    (\"arc\", {\"radius\": 60, \"angle\": -10}),\n",
    "    (\"line\", {\"length\": 30}),\n",
    "]\n",
    "\n",
    "render(\"bracket\", \"\"\"\n",
    "hanging bracket\n",
    "\"\"\", (\n",
    "    cqkit.Ribbon(\"XY\", path).render().extrude(bracket['width'])\n",
    "    .faces(\">X\")\n",
    "    .transformed(\n",
    "        offset=cq.Vector(10,thickness-attachment['depth']+0.5, bracket['width']/2),\n",
    "        rotate=cq.Vector(90,0,0)\n",
    "    )\n",
    "    .polygon(3, bracket['size']-2)\n",
    "    .extrude(attachment['depth'], taper=attachment['taper'])\n",
    "))"
   ]
  },
  {
   "cell_type": "code",
   "execution_count": 1325,
   "id": "a24762cf",
   "metadata": {},
   "outputs": [
    {
     "data": {
      "application/vnd.jupyter.widget-view+json": {
       "model_id": "4dff0ab2dbf8400b906516d805a7ab91",
       "version_major": 2,
       "version_minor": 0
      },
      "text/plain": [
       "CadViewerWidget(anchor=None, cad_width=800, glass=False, height=600, pinning=False, theme='dark', title=None, …"
      ]
     },
     "metadata": {},
     "output_type": "display_data"
    },
    {
     "data": {
      "text/html": [
       "<div></div>"
      ],
      "text/plain": [
       "<IPython.core.display.HTML object>"
      ]
     },
     "metadata": {},
     "output_type": "display_data"
    }
   ],
   "source": [
    "render(\"buds\", \"\"\"\n",
    "Ear buds addon\n",
    "\"\"\", (\n",
    "    cq.Workplane()\n",
    "    # draw the back plane\n",
    "    .box(earbuds['depth'], earbuds['width'], thickness)\n",
    "    .edges(\"|Z\").fillet(5)\n",
    "\n",
    "    # add angled bracket\n",
    "    .faces(\">X\").workplane()\n",
    "    .transformed(\n",
    "        offset=cq.Vector(10, thickness-1, -20),\n",
    "        rotate=cq.Vector(0,90,0)\n",
    "    )\n",
    "    .hLine(20)\n",
    "    .threePointArc((10,10),(10,20))\n",
    "    .close()\n",
    "    .extrude(10)\n",
    "\n",
    "    .faces(\">Z\").workplane()\n",
    "    .transformed(\n",
    "        offset=cq.Vector(20, attachment['width']/2-10),\n",
    "        # rotate=cq.Vector(0,0,90)\n",
    "    )\n",
    "    .pushPoints([\n",
    "        (0, -attachment['spread']/2),\n",
    "        (0, attachment['spread']/2),\n",
    "    ])\n",
    "    .rect(attachment['width']*1.5, attachment['thickness'])\n",
    "    .extrude(attachment['depth'], taper=attachment['taper'])\n",
    "))"
   ]
  },
  {
   "cell_type": "code",
   "execution_count": 1326,
   "id": "c66dae66",
   "metadata": {},
   "outputs": [
    {
     "data": {
      "application/vnd.jupyter.widget-view+json": {
       "model_id": "59cd75ef626242daa9ae40b7c17ede14",
       "version_major": 2,
       "version_minor": 0
      },
      "text/plain": [
       "CadViewerWidget(anchor=None, cad_width=800, glass=False, height=600, pinning=False, theme='dark', title=None, …"
      ]
     },
     "metadata": {},
     "output_type": "display_data"
    },
    {
     "data": {
      "text/html": [
       "<div></div>"
      ],
      "text/plain": [
       "<IPython.core.display.HTML object>"
      ]
     },
     "metadata": {},
     "output_type": "display_data"
    }
   ],
   "source": [
    "render(\"watch\", \"\"\"\n",
    "watch addon\n",
    "\"\"\", (\n",
    "    cq.Workplane()\n",
    "    # draw the back plane\n",
    "    .box(watch['height'], watch['width'], thickness)\n",
    "    .faces(\">Z\").workplane()\n",
    "    .transformed(\n",
    "        offset=cq.Vector(attachment['width']/2, 0),\n",
    "    )\n",
    "    .pushPoints([\n",
    "        (0, -attachment['spread']/2),\n",
    "        (0, attachment['spread']/2),\n",
    "    ])\n",
    "    .rect(attachment['width']*1.5, attachment['thickness'])\n",
    "    .extrude(attachment['depth'], taper=attachment['taper'])\n",
    "    .edges(\"|Z\").fillet(5)\n",
    "))"
   ]
  }
 ],
 "metadata": {
  "kernelspec": {
   "display_name": "Python 3 (ipykernel)",
   "language": "python",
   "name": "python3"
  },
  "language_info": {
   "codemirror_mode": {
    "name": "ipython",
    "version": 3
   },
   "file_extension": ".py",
   "mimetype": "text/x-python",
   "name": "python",
   "nbconvert_exporter": "python",
   "pygments_lexer": "ipython3",
   "version": "3.10.8"
  },
  "vscode": {
   "interpreter": {
    "hash": "2e7007663510ed9db58bd00c4b6768d5d37222230e04b44bb35e77da9185a2df"
   }
  }
 },
 "nbformat": 4,
 "nbformat_minor": 5
}
