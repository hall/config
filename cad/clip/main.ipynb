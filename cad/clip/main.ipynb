{
 "cells": [
  {
   "cell_type": "code",
   "execution_count": 1,
   "id": "eb766489",
   "metadata": {},
   "outputs": [
    {
     "name": "stdout",
     "output_type": "stream",
     "text": [
      "Overwriting auto display for cadquery Workplane and Shape\n"
     ]
    },
    {
     "name": "stderr",
     "output_type": "stream",
     "text": [
      "DeprecationWarning: jupyter_cadquery.cadquery is deprecated, please use jupyter_cadquery directly for import and jupyter_cadquery.replay for replay functions\n",
      "DeprecationWarning: Using bool for grid is deprecated, please use (xy-grid, xz-grid. yz-grid)\n"
     ]
    }
   ],
   "source": [
    "import cadquery as cq\n",
    "from common import render\n",
    "\n",
    "# a set of clips to hold in-ear monitors to a guitar strap\n",
    "# with a hook at the far end to hold the ear pieces\n",
    "\n",
    "# clip measurement\n",
    "length      = 25\n",
    "width       = 6\n",
    "thickness   = 2  # of clip arms\n",
    "gap         = 1  # between clip arms\n",
    "# the hook variant doesn't clip over a wire\n",
    "# it also needs better grip to support the earbuds\n",
    "hook_gap    = 3 \n",
    "height      = (gap + thickness) * 2  # hook height\n",
    "hook_curve  = [\n",
    "    (0.0,          height/4.0, 0),\n",
    "    (length/6.25,  height/1.3, 0),\n",
    "    (length/3.125, height/1.0, 0),\n",
    "    (length/2.0,   height/1.3, 0),\n",
    "    (length/1.5,   height/2.5, 0),\n",
    "    (length/1.25,  height/1.6, 0),\n",
    "]"
   ]
  },
  {
   "cell_type": "code",
   "execution_count": 2,
   "id": "7b6c3bb0",
   "metadata": {},
   "outputs": [],
   "source": [
    "def clip(gap=gap):\n",
    "        \"\"\"\n",
    "        crate a base clip with GAP space between the arms\n",
    "        \"\"\"\n",
    "        return (\n",
    "                cq.Workplane('front')\n",
    "                # draw the overall box shape\n",
    "                .box(length, thickness, width)\n",
    "                # round the edges\n",
    "                # .edges(\"|Z and <X\").fillet(thickness)\n",
    "                # cut out a shell\n",
    "                .faces(\"+X or -Z or +Z\").shell(thickness)\n",
    "                # add teeth\n",
    "        )"
   ]
  },
  {
   "cell_type": "code",
   "execution_count": 6,
   "id": "6c1fad5b",
   "metadata": {},
   "outputs": [
    {
     "name": "stdout",
     "output_type": "stream",
     "text": [
      "100% ⋮————————————————————————————————————————————————————————————⋮ (2/2)  0.02s\n"
     ]
    },
    {
     "data": {
      "application/vnd.jupyter.widget-view+json": {
       "model_id": "af9ce45d85cb416f817f7c2ef2195d49",
       "version_major": 2,
       "version_minor": 0
      },
      "text/plain": [
       "CadViewerWidget(anchor=None, cad_width=800, glass=False, height=600, pinning=False, theme='dark', title=None, …"
      ]
     },
     "metadata": {},
     "output_type": "display_data"
    },
    {
     "data": {
      "text/html": [
       "<div></div>"
      ],
      "text/plain": [
       "<IPython.core.display.HTML object>"
      ]
     },
     "metadata": {},
     "output_type": "display_data"
    }
   ],
   "source": [
    "render(\"hook\", \"\"\"\n",
    "a clip with hook attachment\n",
    "\"\"\", (\n",
    "    clip(hook_gap).add(\n",
    "        cq.Workplane(\"XZ\")\n",
    "        # create hook base\n",
    "        .rect(thickness, width/1.5)\n",
    "        # trace shape over hook curve\n",
    "        .sweep(cq.Workplane(\"XY\").spline(hook_curve, includeCurrent=True))\n",
    "        # place hook base at back of clip\n",
    "        .translate((-length/2+thickness, gap/2+thickness,0))\n",
    "        )\n",
    "        # .add(\n",
    "        #     cq.Workplane(\"XZ\")\n",
    "        #     .rect(2,2)\n",
    "        #     .extrude(gap)\n",
    "        #     .translate((length/2-thickness, 0))\n",
    "        # )\n",
    "))"
   ]
  },
  {
   "cell_type": "code",
   "execution_count": 7,
   "id": "2a949301",
   "metadata": {},
   "outputs": [
    {
     "data": {
      "application/vnd.jupyter.widget-view+json": {
       "model_id": "333ddbe2157045b6ae6ec1006e8fb6f5",
       "version_major": 2,
       "version_minor": 0
      },
      "text/plain": [
       "CadViewerWidget(anchor=None, cad_width=800, glass=False, height=600, pinning=False, theme='dark', title=None, …"
      ]
     },
     "metadata": {},
     "output_type": "display_data"
    },
    {
     "data": {
      "text/html": [
       "<div></div>"
      ],
      "text/plain": [
       "<IPython.core.display.HTML object>"
      ]
     },
     "metadata": {},
     "output_type": "display_data"
    },
    {
     "ename": "FileNotFoundError",
     "evalue": "[Errno 2] No such file or directory: 'clip/wire.svg'",
     "output_type": "error",
     "traceback": [
      "\u001b[0;31m---------------------------------------------------------------------------\u001b[0m",
      "\u001b[0;31mFileNotFoundError\u001b[0m                         Traceback (most recent call last)",
      "Cell \u001b[0;32mIn[7], line 1\u001b[0m\n\u001b[0;32m----> 1\u001b[0m render(\u001b[39m\"\u001b[39;49m\u001b[39mclip/wire\u001b[39;49m\u001b[39m\"\u001b[39;49m, \u001b[39m\"\"\"\u001b[39;49m\n\u001b[1;32m      2\u001b[0m \u001b[39ma clip with a wire groove\u001b[39;49m\n\u001b[1;32m      3\u001b[0m \u001b[39m\"\"\"\u001b[39;49m, (\n\u001b[1;32m      4\u001b[0m         clip()\u001b[39m.\u001b[39;49mfaces(\u001b[39m\"\u001b[39;49m\u001b[39m>Z\u001b[39;49m\u001b[39m\"\u001b[39;49m)\u001b[39m.\u001b[39;49mworkplane()\n\u001b[1;32m      5\u001b[0m         \u001b[39m# the seam is 5 units from the edge\u001b[39;49;00m\n\u001b[1;32m      6\u001b[0m         \u001b[39m.\u001b[39;49mcenter(\u001b[39m-\u001b[39;49m\u001b[39m5\u001b[39;49m, (gap\u001b[39m/\u001b[39;49m\u001b[39m2\u001b[39;49m)\u001b[39m+\u001b[39;49m\u001b[39m1\u001b[39;49m)\n\u001b[1;32m      7\u001b[0m         \u001b[39m# add wire groove\u001b[39;49;00m\n\u001b[1;32m      8\u001b[0m         \u001b[39m.\u001b[39;49mcircle(thickness\u001b[39m/\u001b[39;49m\u001b[39m2\u001b[39;49m)\u001b[39m.\u001b[39;49mcutThruAll()\n\u001b[1;32m      9\u001b[0m ))\n",
      "File \u001b[0;32m~/src/gitlab.com/hall/hall/cad/common.py:24\u001b[0m, in \u001b[0;36mrender\u001b[0;34m(name, doc, render)\u001b[0m\n\u001b[1;32m     22\u001b[0m p \u001b[39m=\u001b[39m Path(name)\n\u001b[1;32m     23\u001b[0m cq\u001b[39m.\u001b[39mexporters\u001b[39m.\u001b[39mexport(render, \u001b[39mf\u001b[39m\u001b[39m'\u001b[39m\u001b[39m{\u001b[39;00mp\u001b[39m}\u001b[39;00m\u001b[39m.stl\u001b[39m\u001b[39m'\u001b[39m)\n\u001b[0;32m---> 24\u001b[0m cq\u001b[39m.\u001b[39;49mexporters\u001b[39m.\u001b[39;49mexport(render, \u001b[39mf\u001b[39;49m\u001b[39m'\u001b[39;49m\u001b[39m{\u001b[39;49;00mp\u001b[39m}\u001b[39;49;00m\u001b[39m.svg\u001b[39;49m\u001b[39m'\u001b[39;49m)\n\u001b[1;32m     25\u001b[0m \u001b[39m# ipyplot.plot_images([f'clip/hook.svg'], img_width=250, force_b64=True)\u001b[39;00m\n\u001b[1;32m     27\u001b[0m \u001b[39mwith\u001b[39;00m \u001b[39mopen\u001b[39m(p\u001b[39m.\u001b[39mparent \u001b[39m/\u001b[39m \u001b[39m\"\u001b[39m\u001b[39mREADME.md\u001b[39m\u001b[39m\"\u001b[39m, \u001b[39m\"\u001b[39m\u001b[39mw\u001b[39m\u001b[39m\"\u001b[39m) \u001b[39mas\u001b[39;00m file:\n",
      "File \u001b[0;32m~/.conda/lib/python3.10/site-packages/cadquery/occ_impl/exporters/__init__.py:91\u001b[0m, in \u001b[0;36mexport\u001b[0;34m(w, fname, exportType, tolerance, angularTolerance, opt)\u001b[0m\n\u001b[1;32m     88\u001b[0m         f\u001b[39m.\u001b[39mwrite(mesher\u001b[39m.\u001b[39mtoJson())\n\u001b[1;32m     90\u001b[0m \u001b[39melif\u001b[39;00m exportType \u001b[39m==\u001b[39m ExportTypes\u001b[39m.\u001b[39mSVG:\n\u001b[0;32m---> 91\u001b[0m     \u001b[39mwith\u001b[39;00m \u001b[39mopen\u001b[39;49m(fname, \u001b[39m\"\u001b[39;49m\u001b[39mw\u001b[39;49m\u001b[39m\"\u001b[39;49m) \u001b[39mas\u001b[39;00m f:\n\u001b[1;32m     92\u001b[0m         f\u001b[39m.\u001b[39mwrite(getSVG(shape, opt))\n\u001b[1;32m     94\u001b[0m \u001b[39melif\u001b[39;00m exportType \u001b[39m==\u001b[39m ExportTypes\u001b[39m.\u001b[39mAMF:\n",
      "\u001b[0;31mFileNotFoundError\u001b[0m: [Errno 2] No such file or directory: 'clip/wire.svg'"
     ]
    }
   ],
   "source": [
    "render(\"wire\", \"\"\"\n",
    "a clip with a wire groove\n",
    "\"\"\", (\n",
    "        clip().faces(\">Z\").workplane()\n",
    "        # the seam is 5 units from the edge\n",
    "        .center(-5, (gap/2)+1)\n",
    "        # add wire groove\n",
    "        .circle(thickness/2).cutThruAll()\n",
    "))"
   ]
  }
 ],
 "metadata": {
  "kernelspec": {
   "display_name": "Python 3 (ipykernel)",
   "language": "python",
   "name": "python3"
  },
  "language_info": {
   "codemirror_mode": {
    "name": "ipython",
    "version": 3
   },
   "file_extension": ".py",
   "mimetype": "text/x-python",
   "name": "python",
   "nbconvert_exporter": "python",
   "pygments_lexer": "ipython3",
   "version": "3.10.8"
  },
  "vscode": {
   "interpreter": {
    "hash": "3c9876dc78b0529e03c0c1fbed586799b844723adba1edefbf8f252818598f0d"
   }
  }
 },
 "nbformat": 4,
 "nbformat_minor": 5
}
