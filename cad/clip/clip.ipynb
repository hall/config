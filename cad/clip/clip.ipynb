{
 "cells": [
  {
   "cell_type": "code",
   "execution_count": 33,
   "id": "eb766489",
   "metadata": {},
   "outputs": [
    {
     "data": {
      "application/vnd.jupyter.widget-view+json": {
       "model_id": "8fb542ecb8594200b5eca352df5954b0",
       "version_major": 2,
       "version_minor": 0
      },
      "text/plain": [
       "Renderer(camera=CombinedCamera(far=100.0, height=600.0, mode='orthographic', orthoFar=100.0, position=(1.0, 1.…"
      ]
     },
     "metadata": {},
     "output_type": "display_data"
    }
   ],
   "source": [
    "import cadquery as cq\n",
    "from common import render\n",
    "\n",
    "# a set of clips to hold in-ear monitors to a guitar strap\n",
    "# with a hook at the far end to hold the ear pieces\n",
    "\n",
    "# clip measurementj\n",
    "length      = 25\n",
    "width       = 6\n",
    "thickness   = 2  # of clip arms\n",
    "gap         = 1  # between clip arms\n",
    "# the hook variant doesn't clip over a wire\n",
    "# it also needs better grip to support the earbuds\n",
    "hook_gap    = 3 \n",
    "height      = (gap + thickness) * 2  # hook height\n",
    "hook_curve  = [\n",
    "    (0.0,          height/4.0, 0),\n",
    "    (length/6.25,  height/1.3, 0),\n",
    "    (length/3.125, height/1.0, 0),\n",
    "    (length/2.0,   height/1.3, 0),\n",
    "    (length/1.5,   height/2.5, 0),\n",
    "    (length/1.25,  height/1.6, 0),\n",
    "]\n",
    "\n",
    "def clip(gap=gap):\n",
    "        \"\"\"\n",
    "        crate a base clip with GAP space between the arms\n",
    "        \"\"\"\n",
    "        return (\n",
    "                cq.Workplane('front')\n",
    "                # draw the overall box shape\n",
    "                .box(length, thickness, width)\n",
    "                # round the edges\n",
    "                # .edges(\"|Z and <X\").fillet(thickness)\n",
    "                # cut out a shell\n",
    "                .faces(\"+X or -Z or +Z\").shell(thickness)\n",
    "                # add teeth\n",
    "                \n",
    "        )\n",
    "\n",
    "# # a clip with a wire groove\n",
    "# render(\"clip/wire\", (\n",
    "#         clip().faces(\">Z\").workplane()\n",
    "#         # the seam is 5 units from the edge\n",
    "#         .center(-5, (gap/2)+1)\n",
    "#         # add wire groove\n",
    "#         .circle(thickness/2).cutThruAll()\n",
    "# ))\n",
    "\n",
    "# a clip with a hook attachment\n",
    "render(\"clip/hook\", (\n",
    "        clip(hook_gap).add(\n",
    "            cq.Workplane(\"XZ\")\n",
    "            # create hook base\n",
    "            .rect(thickness, width/1.5)\n",
    "            # trace shape over hook curve\n",
    "            .sweep(cq.Workplane(\"XY\").spline(hook_curve, includeCurrent=True))\n",
    "            # place hook base at back of clip\n",
    "            .translate((-length/2+thickness, gap/2+thickness,0))\n",
    "         )\n",
    "        # .add(\n",
    "        #     cq.Workplane(\"XZ\")\n",
    "        #     .rect(2,2)\n",
    "        #     .extrude(gap)\n",
    "        #     .translate((length/2-thickness, 0))\n",
    "        # )\n",
    "))"
   ]
  },
  {
   "cell_type": "code",
   "execution_count": null,
   "id": "6c1fad5b",
   "metadata": {},
   "outputs": [],
   "source": []
  }
 ],
 "metadata": {
  "kernelspec": {
   "display_name": "Python 3 (ipykernel)",
   "language": "python",
   "name": "python3"
  },
  "language_info": {
   "codemirror_mode": {
    "name": "ipython",
    "version": 3
   },
   "file_extension": ".py",
   "mimetype": "text/x-python",
   "name": "python",
   "nbconvert_exporter": "python",
   "pygments_lexer": "ipython3",
   "version": "3.8.12"
  }
 },
 "nbformat": 4,
 "nbformat_minor": 5
}
