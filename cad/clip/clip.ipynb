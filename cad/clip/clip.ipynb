{
 "cells": [
  {
   "cell_type": "code",
   "execution_count": 189,
   "id": "b720aebc",
   "metadata": {},
   "outputs": [],
   "source": [
    "import cadquery as cq\n",
    "from jupyter_cadquery.cadquery import show, PartGroup, Part\n",
    "from jupyter_cadquery import set_defaults, set_sidecar\n",
    "from pathlib import Path\n",
    "\n",
    "set_defaults(axes=True, axes0=True, grid=False, tools=False, theme=\"dark\", default_edgecolor=(0,0,0))"
   ]
  },
  {
   "cell_type": "code",
   "execution_count": 204,
   "id": "eb766489",
   "metadata": {},
   "outputs": [
    {
     "data": {
      "application/vnd.jupyter.widget-view+json": {
       "model_id": "3a72539acc354b2fa42f3dba0a40dd4a",
       "version_major": 2,
       "version_minor": 0
      },
      "text/plain": [
       "Renderer(camera=CombinedCamera(far=100.0, height=600.0, mode='orthographic', orthoFar=100.0, position=(1.0, 1.…"
      ]
     },
     "metadata": {},
     "output_type": "display_data"
    },
    {
     "data": {
      "application/vnd.jupyter.widget-view+json": {
       "model_id": "e2d384d8d9814187845b0d0c9683874a",
       "version_major": 2,
       "version_minor": 0
      },
      "text/plain": [
       "Renderer(camera=CombinedCamera(far=100.0, height=600.0, mode='orthographic', orthoFar=100.0, position=(1.0, 1.…"
      ]
     },
     "metadata": {},
     "output_type": "display_data"
    }
   ],
   "source": [
    "# a set of clips to hold in-ear monitors to a guitar strap\n",
    "# with a hook at the far end to hold the ear pieces\n",
    "\n",
    "# clip measurements\n",
    "length      = 25\n",
    "width       = 8\n",
    "thickness   = 2  # of clip arms\n",
    "gap         = 4  # between clip arms\n",
    "\n",
    "hook_width  = width / 2\n",
    "height      = gap   * 2  # hook height\n",
    "hook_curve  = [\n",
    "    (0.0,          height/4.0, 0),\n",
    "    (length/6.25,  height/1.3, 0),\n",
    "    (length/3.125, height/1.0, 0),\n",
    "    (length/2.0,   height/1.3, 0),\n",
    "    (length/1.5,   height/2.5, 0),\n",
    "    (length/1.25,  height/1.6, 0),\n",
    "]\n",
    "\n",
    "def process(name: str, render):\n",
    "        \"\"\"display and save object\"\"\"\n",
    "        show(render)\n",
    "        name = f\"clip/{name}\"\n",
    "        cq.exporters.export(render, f'{name}.stl')\n",
    "        cq.exporters.export(render, f'{name}.svg')\n",
    "\n",
    "clip = (\n",
    "        cq.Workplane('front')\n",
    "        # draw the overall box shape\n",
    "        .box(length, gap + thickness, width)\n",
    "        # round the edges\n",
    "        .edges(\"|Z and <X\").fillet(thickness)\n",
    "        # cut out a shell\n",
    "        .faces(\"+X or -Z or +Z\").shell(thickness)\n",
    ")\n",
    "\n",
    "process(\"clip_wire\", (\n",
    "        clip.faces(\">Z\").workplane()\n",
    "        # the seam is 5 units from the edge\n",
    "        .center(-5, (gap/2)+1)\n",
    "        # add wire groove\n",
    "        .circle(thickness/2).cutThruAll()\n",
    "))\n",
    "\n",
    "process(\"clip_hook\", (\n",
    "        clip.add(\n",
    "            cq.Workplane(\"XZ\")\n",
    "            # create hook base\n",
    "            .rect(thickness, width/2)\n",
    "            # trace base shape over hook curve\n",
    "            .sweep(cq.Workplane(\"XY\").spline(hook_curve, includeCurrent=True))\n",
    "            # place hook base at back of clip\n",
    "            .translate((-length/2+thickness, gap/2+thickness+1,0))\n",
    "        )\n",
    "))\n"
   ]
  },
  {
   "cell_type": "code",
   "execution_count": null,
   "metadata": {},
   "outputs": [],
   "source": []
  }
 ],
 "metadata": {
  "kernelspec": {
   "display_name": "Python 3 (ipykernel)",
   "language": "python",
   "name": "python3"
  },
  "language_info": {
   "codemirror_mode": {
    "name": "ipython",
    "version": 3
   },
   "file_extension": ".py",
   "mimetype": "text/x-python",
   "name": "python",
   "nbconvert_exporter": "python",
   "pygments_lexer": "ipython3",
   "version": "3.8.12"
  }
 },
 "nbformat": 4,
 "nbformat_minor": 5
}
